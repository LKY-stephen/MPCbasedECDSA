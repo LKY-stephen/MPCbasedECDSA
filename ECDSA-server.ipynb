{
 "cells": [
  {
   "cell_type": "code",
   "execution_count": 1,
   "metadata": {},
   "outputs": [],
   "source": [
    "from ecdsa import SigningKey,ellipticcurve,numbertheory\n",
    "from hashlib import sha256\n",
    "from random import randint"
   ]
  },
  {
   "cell_type": "code",
   "execution_count": 11,
   "metadata": {},
   "outputs": [],
   "source": [
    "class server:\n",
    "    def __init__(self,n):\n",
    "        self.network=n\n",
    "        self.value={}\n",
    "        \n",
    "    def Rand(self,mod):\n",
    "        seq=[randint(1000,1000000)%mod for i in range(self.network)]\n",
    "        self.value[sum(seq)]=seq\n",
    "        return seq\n",
    "            \n",
    "    def RandMul(self,mod):\n",
    "        a=self.Rand(mod)\n",
    "        b=self.Rand(mod)\n",
    "        value_c=sum(a)*sum(b)\n",
    "        if value_c in self.value:\n",
    "            return a,b,self.value[value_C]\n",
    "        seq=[randint(1000,1000000)%mod for i in range(self.network-1)]\n",
    "        seq.append(value_c-sum(seq)%mod)\n",
    "        self.value[value_c]=seq\n",
    "        return a,b,seq\n",
    "    \n",
    "\n",
    "class node:\n",
    "    def __init__(self):\n",
    "        self.ski=SigningKey.generate()\n",
    "        self.pki=self.ski.get_verifying_key().pubkey\n",
    "        self.order=self.ski.curve.order\n",
    "    \n",
    "    def preprocessing1(self,ai,bi,c):\n",
    "        self.ki=ai\n",
    "        self.inverseki=numbertheory.inverse_mod(c, self.order)*bi%self.order\n",
    "        return self.pki.generator*self.ki\n",
    "    \n",
    "    def preprocessing2_1(self,ci,a_ya,b_xb):\n",
    "        self.ksi=(ci+a_ya+b_xb)%self.order\n",
    "    \n",
    "    def signaturepiece(self,Hash,R):\n",
    "        return (self.inverseki*Hash)+(R.x()*self.ksi)\n",
    "        "
   ]
  },
  {
   "cell_type": "code",
   "execution_count": 18,
   "metadata": {},
   "outputs": [],
   "source": [
    "def keygeneration(n):\n",
    "    nodelist=[node() for i in range(n)]\n",
    "    PK= ellipticcurve.Point(None, None, None)\n",
    "    for Node in nodelist:\n",
    "        PK=PK+Node.pki.point\n",
    "    return (PK,nodelist)\n",
    "\n",
    "def preprocessingone(n,nodelist,server):\n",
    "    order=nodelist[0].order\n",
    "    a,b,c=server.RandMul(order)\n",
    "    cvalue=sum(c)\n",
    "    R= ellipticcurve.Point(None, None, None)\n",
    "    for i in range(n):\n",
    "        R=R+nodelist[i].preprocessing1(a[i],b[i],cvalue)\n",
    "    return R\n",
    "\n",
    "def preprocessingtwo(n,nodelist,server):\n",
    "    order=nodelist[0].order\n",
    "    (a,b,c)=server.RandMul(order)\n",
    "    a_y=sum([nodelist[i].ski.privkey.secret_multiplier-a[i] for i in range(n)])\n",
    "    b_x=sum([nodelist[i].inverseki-b[i] for i in range(n)])\n",
    "    for i in range(n):\n",
    "        nodelist[i].preprocessing2_1(c[i],a_y*b[i],b_x*a[i])\n",
    "    return a_y*b_x\n",
    "\n",
    "def sigining(message,nodelist,R,bias):\n",
    "    order=nodelist[0].order\n",
    "    sign=sum([nodelist[i].signaturepiece(message,R) for i in range(len(nodelist))])+R.x()*bias\n",
    "    return sign\n",
    "    \n",
    "def Verify(message,sign,generator,R,pk):\n",
    "    return sign*R==R.x()*pk+message*generator\n",
    "\n"
   ]
  },
  {
   "cell_type": "code",
   "execution_count": 19,
   "metadata": {},
   "outputs": [],
   "source": [
    "def test(n):\n",
    "    networksize=n\n",
    "    testserver=server(networksize)\n",
    "    Pk,nodelist=keygeneration(networksize)\n",
    "    R=preprocessingone(networksize,nodelist,testserver)\n",
    "    bias=preprocessingtwo(networksize,nodelist,testserver)\n",
    "    for msg in [\"Microsoft\", \"Alibaba\", \"Google\", \"Amazon\",]:\n",
    "        Hash=int(sha256(msg.encode(\"utf-8\")).hexdigest(),16)\n",
    "        signature=sigining(Hash,nodelist,R,bias)\n",
    "        print(Verify(Hash,signature,nodelist[0].ski.curve.generator,R,Pk))\n",
    "        "
   ]
  },
  {
   "cell_type": "code",
   "execution_count": 20,
   "metadata": {},
   "outputs": [
    {
     "name": "stdout",
     "output_type": "stream",
     "text": [
      "True\n",
      "True\n",
      "True\n",
      "True\n",
      "True\n",
      "True\n",
      "True\n",
      "True\n",
      "True\n",
      "True\n",
      "True\n",
      "True\n",
      "True\n",
      "True\n",
      "True\n",
      "True\n"
     ]
    }
   ],
   "source": [
    "test(2)\n",
    "test(3)\n",
    "test(4)\n",
    "test(5)"
   ]
  },
  {
   "cell_type": "code",
   "execution_count": null,
   "metadata": {},
   "outputs": [],
   "source": []
  },
  {
   "cell_type": "code",
   "execution_count": null,
   "metadata": {},
   "outputs": [],
   "source": []
  }
 ],
 "metadata": {
  "kernelspec": {
   "display_name": "Python 3",
   "language": "python",
   "name": "python3"
  },
  "language_info": {
   "codemirror_mode": {
    "name": "ipython",
    "version": 3
   },
   "file_extension": ".py",
   "mimetype": "text/x-python",
   "name": "python",
   "nbconvert_exporter": "python",
   "pygments_lexer": "ipython3",
   "version": "3.7.3"
  }
 },
 "nbformat": 4,
 "nbformat_minor": 2
}
